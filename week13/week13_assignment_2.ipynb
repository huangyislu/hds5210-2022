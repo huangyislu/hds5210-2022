{
 "cells": [
  {
   "cell_type": "markdown",
   "metadata": {
    "nbgrader": {
     "grade": false,
     "grade_id": "cell-fc1c39d0d6f8b82a",
     "locked": true,
     "schema_version": 1,
     "solution": false
    }
   },
   "source": [
    "# Week 13 Programming Assignment\n",
    "\n",
    "As you're working on identifying data for your final project, it's helpful to spend some time exploring your various data files.  For this week's assignment, I'd like you to take a few of the ideas from the the lectures, review assignment, and tonight's lecture to start exploring the data you plan to use for the final project.\n",
    "\n",
    "For the following activities, you can use just one of the data files that you've identified, or you can do the activities using different data files.  That's up to you.  Please describe what you're doing in a Markdown cell or in the comments of your code.  When you've completed the assignment, submit it as normal."
   ]
  },
  {
   "cell_type": "markdown",
   "metadata": {},
   "source": [
    "### 1. Basic Statistics\n",
    "\n",
    "Use Python to read in your data file and show many rows and columns your data has."
   ]
  },
  {
   "cell_type": "code",
   "execution_count": 16,
   "metadata": {},
   "outputs": [
    {
     "data": {
      "text/plain": [
       "(53940, 11)"
      ]
     },
     "execution_count": 16,
     "metadata": {},
     "output_type": "execute_result"
    }
   ],
   "source": [
    "import pandas as pd\n",
    "import numpy as np\n",
    "dat = pd.read_csv(\"~/hds5210-2022/data/mydata.csv\")\n",
    "dat.rename(columns={'Unnamed: 0':'ID'}, inplace=True)\n",
    "dat.shape"
   ]
  },
  {
   "cell_type": "markdown",
   "metadata": {},
   "source": [
    "### 2. Data Diversity\n",
    "\n",
    "Use Python to identify how many unique values each column in your data has.  Use Python to identify which column has the greatest number of distinct values (aka the most diversity)?  If your data has a unique identifier (e.g. a person or visit or record ID) then find the column with the next most number of unique values."
   ]
  },
  {
   "cell_type": "code",
   "execution_count": 41,
   "metadata": {},
   "outputs": [
    {
     "name": "stdout",
     "output_type": "stream",
     "text": [
      "Number of unique values in  carat  are  273\n",
      "Number of unique values in  cut  are  5\n",
      "Number of unique values in  color  are  7\n",
      "Number of unique values in  clarity  are  8\n",
      "Number of unique values in  depth  are  184\n",
      "Number of unique values in  table  are  127\n",
      "Number of unique values in  price  are  11602\n",
      "Number of unique values in  x  are  554\n",
      "Number of unique values in  y  are  552\n",
      "Number of unique values in  z  are  375\n"
     ]
    }
   ],
   "source": [
    "dat.head()\n",
    "max_unique_values = 0\n",
    "max_unique_value_column = 0\n",
    "\n",
    "col = \"carat\"\n",
    "print(\"Number of unique values in \", col, \" are \", len(dat[col].unique()))\n",
    "if(len(dat[col].unique()) > max_unique_values):\n",
    "  max_unique_values = len(dat[col].unique())\n",
    "  max_unique_value_column = col\n",
    "    \n",
    "col = \"cut\"\n",
    "print(\"Number of unique values in \", col, \" are \", len(dat[col].unique()))\n",
    "if(len(dat[col].unique()) > max_unique_values):\n",
    "  max_unique_values = len(dat[col].unique())\n",
    "  max_unique_value_column = col\n",
    "    \n",
    "col = \"color\"\n",
    "print(\"Number of unique values in \", col, \" are \", len(dat[col].unique()))\n",
    "if(len(dat[col].unique()) > max_unique_values):\n",
    "  max_unique_values = len(dat[col].unique())\n",
    "  max_unique_value_column = col\n",
    "    \n",
    "col = \"clarity\"\n",
    "print(\"Number of unique values in \", col, \" are \", len(dat[col].unique()))\n",
    "if(len(dat[col].unique()) > max_unique_values):\n",
    "  max_unique_values = len(dat[col].unique())\n",
    "  max_unique_value_column = col\n",
    "\n",
    "col = \"depth\"\n",
    "print(\"Number of unique values in \", col, \" are \", len(dat[col].unique()))\n",
    "if(len(dat[col].unique()) > max_unique_values):\n",
    "  max_unique_values = len(dat[col].unique())\n",
    "  max_unique_value_column = col\n",
    "\n",
    "col = \"table\"\n",
    "print(\"Number of unique values in \", col, \" are \", len(dat[col].unique()))\n",
    "if(len(dat[col].unique()) > max_unique_values):\n",
    "  max_unique_values = len(dat[col].unique())\n",
    "  max_unique_value_column = col\n",
    "\n",
    "col = \"price\"\n",
    "print(\"Number of unique values in \", col, \" are \", len(dat[col].unique()))\n",
    "if(len(dat[col].unique()) > max_unique_values):\n",
    "  max_unique_values = len(dat[col].unique())\n",
    "  max_unique_value_column = col\n",
    "\n",
    "col = \"x\"\n",
    "print(\"Number of unique values in \", col, \" are \", len(dat[col].unique()))\n",
    "if(len(dat[col].unique()) > max_unique_values):\n",
    "  max_unique_values = len(dat[col].unique())\n",
    "  max_unique_value_column = col\n",
    "\n",
    "col = \"y\"\n",
    "print(\"Number of unique values in \", col, \" are \", len(dat[col].unique()))\n",
    "if(len(dat[col].unique()) > max_unique_values):\n",
    "  max_unique_values = len(dat[col].unique())\n",
    "  max_unique_value_column = col\n",
    "\n",
    "col = \"z\"\n",
    "print(\"Number of unique values in \", col, \" are \", len(dat[col].unique()))\n",
    "if(len(dat[col].unique()) > max_unique_values):\n",
    "  max_unique_values = len(dat[col].unique())\n",
    "  max_unique_value_column = col\n",
    "\n",
    "\n"
   ]
  },
  {
   "cell_type": "markdown",
   "metadata": {},
   "source": [
    "### 3. Data Redundancy\n",
    "\n",
    "Use Python to identify any columns in your data where the value for every row is the same.  For example, if you had a gender column and all the rows said 'M', then you would want to write the code that helped you determine that."
   ]
  },
  {
   "cell_type": "code",
   "execution_count": 48,
   "metadata": {},
   "outputs": [
    {
     "name": "stdout",
     "output_type": "stream",
     "text": [
      "No redundant columns\n"
     ]
    }
   ],
   "source": [
    "red = False\n",
    "\n",
    "col = \"carat\"\n",
    "u_vals = len(dat[col].unique())\n",
    "if(u_vals == 1):\n",
    "  print(\"Same values for\", col)\n",
    "  red = True\n",
    "    \n",
    "col = \"cut\"\n",
    "u_vals = len(dat[col].unique())\n",
    "if(u_vals == 1):\n",
    "  print(\"Same values for\", col)\n",
    "  red = True\n",
    "    \n",
    "col = \"color\"\n",
    "u_vals = len(dat[col].unique())\n",
    "if(u_vals == 1):\n",
    "  print(\"Same values for\", col)\n",
    "  red = True\n",
    "    \n",
    "col = \"clarity\"\n",
    "u_vals = len(dat[col].unique())\n",
    "if(u_vals == 1):\n",
    "  print(\"Same values for\", col)\n",
    "  red = True\n",
    "    \n",
    "col = \"depth\"\n",
    "u_vals = len(dat[col].unique())\n",
    "if(u_vals == 1):\n",
    "  print(\"Same values for\", col)\n",
    "  red = True\n",
    "    \n",
    "col = \"table\"\n",
    "u_vals = len(dat[col].unique())\n",
    "if(u_vals == 1):\n",
    "  print(\"Same values for\", col)\n",
    "  red = True\n",
    "    \n",
    "col = \"price\"\n",
    "u_vals = len(dat[col].unique())\n",
    "if(u_vals == 1):\n",
    "  print(\"Same values for\", col)\n",
    "  red = True\n",
    "    \n",
    "col = \"x\"\n",
    "u_vals = len(dat[col].unique())\n",
    "if(u_vals == 1):\n",
    "  print(\"Same values for\", col)\n",
    "  red = True\n",
    "    \n",
    "col = \"y\"\n",
    "u_vals = len(dat[col].unique())\n",
    "if(u_vals == 1):\n",
    "  print(\"Same values for\", col)\n",
    "  red = True\n",
    "    \n",
    "col = \"z\"\n",
    "u_vals = len(dat[col].unique())\n",
    "if(u_vals == 1):\n",
    "  print(\"Same values for\", col)\n",
    "  red = True\n",
    "    \n",
    "if red == False:\n",
    "    print(\"No redundant columns\")"
   ]
  },
  {
   "cell_type": "markdown",
   "metadata": {},
   "source": [
    "### 4. Range of Values\n",
    "\n",
    "Your data almost certainly has some numeric columns that can be summed or averaged.  Create a histogram that shows the distribution of values for this column."
   ]
  },
  {
   "cell_type": "code",
   "execution_count": 69,
   "metadata": {},
   "outputs": [
    {
     "data": {
      "image/png": "[encoded data removed]",
      "text/plain": [
       "<Figure size 432x288 with 1 Axes>"
      ]
     },
     "metadata": {
      "needs_background": "light"
     },
     "output_type": "display_data"
    },
    {
     "data": {
      "image/png": "[encoded data removed]",
      "text/plain": [
       "<Figure size 432x288 with 1 Axes>"
      ]
     },
     "metadata": {
      "needs_background": "light"
     },
     "output_type": "display_data"
    },
    {
     "data": {
      "image/png": "[encoded data removed]",
      "text/plain": [
       "<Figure size 432x288 with 1 Axes>"
      ]
     },
     "metadata": {
      "needs_background": "light"
     },
     "output_type": "display_data"
    },
    {
     "data": {
      "image/png": "[encoded data removed]",
      "text/plain": [
       "<Figure size 432x288 with 1 Axes>"
      ]
     },
     "metadata": {
      "needs_background": "light"
     },
     "output_type": "display_data"
    },
    {
     "data": {
      "image/png": "[encoded data removed]",
      "text/plain": [
       "<Figure size 432x288 with 1 Axes>"
      ]
     },
     "metadata": {
      "needs_background": "light"
     },
     "output_type": "display_data"
    },
    {
     "data": {
      "image/png": "[encoded data removed]",
      "text/plain": [
       "<Figure size 432x288 with 1 Axes>"
      ]
     },
     "metadata": {
      "needs_background": "light"
     },
     "output_type": "display_data"
    },
    {
     "data": {
      "image/png": "[encoded data removed]",
      "text/plain": [
       "<Figure size 432x288 with 1 Axes>"
      ]
     },
     "metadata": {
      "needs_background": "light"
     },
     "output_type": "display_data"
    }
   ],
   "source": [
    "dat.head()\n",
    "import matplotlib.pyplot as plt\n",
    "\n",
    "fig, axs = plt.subplots(1, 1,\n",
    "                        figsize =(6, 4),\n",
    "                        tight_layout = True)\n",
    " \n",
    "axs.hist(dat['carat'], bins = 20)\n",
    "plt.title(\"Carat\")\n",
    "plt.show()\n",
    "\n",
    "fig, axs = plt.subplots(1, 1,\n",
    "                        figsize =(6, 4),\n",
    "                        tight_layout = True)\n",
    " \n",
    "axs.hist(dat['depth'], bins = 20)\n",
    "plt.title(\"Depth\")\n",
    "plt.show()\n",
    "\n",
    "fig, axs = plt.subplots(1, 1,\n",
    "                        figsize =(6, 4),\n",
    "                        tight_layout = True)\n",
    " \n",
    "axs.hist(dat['table'], bins = 20)\n",
    "plt.title(\"table\")\n",
    "plt.show()\n",
    "\n",
    "\n",
    "fig, axs = plt.subplots(1, 1,\n",
    "                        figsize =(6, 4),\n",
    "                        tight_layout = True)\n",
    " \n",
    "axs.hist(dat['price'], bins = 20)\n",
    "plt.title(\"price\")\n",
    "plt.show()\n",
    "\n",
    "fig, axs = plt.subplots(1, 1,\n",
    "                        figsize =(6, 4),\n",
    "                        tight_layout = True)\n",
    " \n",
    "axs.hist(dat['x'], bins = 20)\n",
    "plt.title(\"x\")\n",
    "plt.show()\n",
    "\n",
    "fig, axs = plt.subplots(1, 1,\n",
    "                        figsize =(6, 4),\n",
    "                        tight_layout = True)\n",
    " \n",
    "axs.hist(dat['y'], bins = 20)\n",
    "plt.title(\"y\")\n",
    "plt.show()\n",
    "\n",
    "fig, axs = plt.subplots(1, 1,\n",
    "                        figsize =(6, 4),\n",
    "                        tight_layout = True)\n",
    " \n",
    "axs.hist(dat['z'], bins = 20)\n",
    "plt.title(\"z\")\n",
    "plt.show()"
   ]
  },
  {
   "cell_type": "code",
   "execution_count": 68,
   "metadata": {},
   "outputs": [
    {
     "data": {
      "text/html": [
       "<div>\n",
       "<style scoped>\n",
       "    .dataframe tbody tr th:only-of-type {\n",
       "        vertical-align: middle;\n",
       "    }\n",
       "\n",
       "    .dataframe tbody tr th {\n",
       "        vertical-align: top;\n",
       "    }\n",
       "\n",
       "    .dataframe thead th {\n",
       "        text-align: right;\n",
       "    }\n",
       "</style>\n",
       "<table border=\"1\" class=\"dataframe\">\n",
       "  <thead>\n",
       "    <tr style=\"text-align: right;\">\n",
       "      <th></th>\n",
       "      <th>ID</th>\n",
       "      <th>carat</th>\n",
       "      <th>cut</th>\n",
       "      <th>color</th>\n",
       "      <th>clarity</th>\n",
       "      <th>depth</th>\n",
       "      <th>table</th>\n",
       "      <th>price</th>\n",
       "      <th>x</th>\n",
       "      <th>y</th>\n",
       "      <th>z</th>\n",
       "    </tr>\n",
       "  </thead>\n",
       "  <tbody>\n",
       "    <tr>\n",
       "      <th>0</th>\n",
       "      <td>1</td>\n",
       "      <td>0.23</td>\n",
       "      <td>Ideal</td>\n",
       "      <td>E</td>\n",
       "      <td>SI2</td>\n",
       "      <td>61.5</td>\n",
       "      <td>55.0</td>\n",
       "      <td>326</td>\n",
       "      <td>3.95</td>\n",
       "      <td>3.98</td>\n",
       "      <td>2.43</td>\n",
       "    </tr>\n",
       "    <tr>\n",
       "      <th>1</th>\n",
       "      <td>2</td>\n",
       "      <td>0.21</td>\n",
       "      <td>Premium</td>\n",
       "      <td>E</td>\n",
       "      <td>SI1</td>\n",
       "      <td>59.8</td>\n",
       "      <td>61.0</td>\n",
       "      <td>326</td>\n",
       "      <td>3.89</td>\n",
       "      <td>3.84</td>\n",
       "      <td>2.31</td>\n",
       "    </tr>\n",
       "    <tr>\n",
       "      <th>2</th>\n",
       "      <td>3</td>\n",
       "      <td>0.23</td>\n",
       "      <td>Good</td>\n",
       "      <td>E</td>\n",
       "      <td>VS1</td>\n",
       "      <td>56.9</td>\n",
       "      <td>65.0</td>\n",
       "      <td>327</td>\n",
       "      <td>4.05</td>\n",
       "      <td>4.07</td>\n",
       "      <td>2.31</td>\n",
       "    </tr>\n",
       "    <tr>\n",
       "      <th>3</th>\n",
       "      <td>4</td>\n",
       "      <td>0.29</td>\n",
       "      <td>Premium</td>\n",
       "      <td>I</td>\n",
       "      <td>VS2</td>\n",
       "      <td>62.4</td>\n",
       "      <td>58.0</td>\n",
       "      <td>334</td>\n",
       "      <td>4.20</td>\n",
       "      <td>4.23</td>\n",
       "      <td>2.63</td>\n",
       "    </tr>\n",
       "    <tr>\n",
       "      <th>4</th>\n",
       "      <td>5</td>\n",
       "      <td>0.31</td>\n",
       "      <td>Good</td>\n",
       "      <td>J</td>\n",
       "      <td>SI2</td>\n",
       "      <td>63.3</td>\n",
       "      <td>58.0</td>\n",
       "      <td>335</td>\n",
       "      <td>4.34</td>\n",
       "      <td>4.35</td>\n",
       "      <td>2.75</td>\n",
       "    </tr>\n",
       "  </tbody>\n",
       "</table>\n",
       "</div>"
      ],
      "text/plain": [
       "   ID  carat      cut color clarity  depth  table  price     x     y     z\n",
       "0   1   0.23    Ideal     E     SI2   61.5   55.0    326  3.95  3.98  2.43\n",
       "1   2   0.21  Premium     E     SI1   59.8   61.0    326  3.89  3.84  2.31\n",
       "2   3   0.23     Good     E     VS1   56.9   65.0    327  4.05  4.07  2.31\n",
       "3   4   0.29  Premium     I     VS2   62.4   58.0    334  4.20  4.23  2.63\n",
       "4   5   0.31     Good     J     SI2   63.3   58.0    335  4.34  4.35  2.75"
      ]
     },
     "execution_count": 68,
     "metadata": {},
     "output_type": "execute_result"
    }
   ],
   "source": [
    "dat.head()"
   ]
  },
  {
   "cell_type": "markdown",
   "metadata": {},
   "source": [
    "### 5. Discussion\n",
    "\n",
    "Do any additional exploration of this data that you think may be interesting and include your code here.  Then go onto Slack and make a post about what you've observed.  Share your observation.  Share your code, if you like.  Share a screenshot of the data or a chart based on the data.\n",
    "\n",
    "Then comment on at least two other people's observations that they share on Slack.  (Use the reply as thread option in Slack to keep the conversation organized.)"
   ]
  },
  {
   "cell_type": "code",
   "execution_count": null,
   "metadata": {},
   "outputs": [],
   "source": []
  },
  {
   "cell_type": "code",
   "execution_count": null,
   "metadata": {},
   "outputs": [],
   "source": []
  },
  {
   "cell_type": "markdown",
   "metadata": {},
   "source": [
    "\n",
    "\n",
    "---\n",
    "\n",
    "\n",
    "\n",
    "## Submitting Your Work\n",
    "\n",
    "In order to submit your work, you'll need to use the `git` command line program to **add** your homework file (this file) to your local repository, **commit** your changes to your local repository, and then **push** those changes up to github.com.  From there, I'll be able to **pull** the changes down and do my grading.  I'll provide some feedback, **commit** and **push** my comments back to you.  Next week, I'll show you how to **pull** down my comments.\n",
    "\n",
    "To run through everything one last time and submit your work:\n",
    "1. Use the `Kernel` -> `Restart Kernel and Run All Cells` menu option to run everything from top to bottom and stop here.\n",
    "2. Follow the instruction on the prompt below to either ssave and submit your work, or continue working.\n",
    "\n",
    "If anything fails along the way with this submission part of the process, let me know.  I'll help you troubleshoort."
   ]
  },
  {
   "cell_type": "markdown",
   "metadata": {},
   "source": [
    "---"
   ]
  },
  {
   "cell_type": "code",
   "execution_count": 1,
   "metadata": {
    "jupyter": {
     "source_hidden": true
    }
   },
   "outputs": [
    {
     "name": "stdin",
     "output_type": "stream",
     "text": [
      "\n",
      "Are you ready to submit your work?\n",
      "1. Click the Save icon (or do Ctrl-S / Cmd-S)\n",
      "2. Type \"yes\" or \"no\" below\n",
      "3. Press Enter\n",
      "\n",
      " \n"
     ]
    },
    {
     "name": "stdout",
     "output_type": "stream",
     "text": [
      "\n",
      "    \n",
      "OK. We can wait.\n",
      "\n"
     ]
    }
   ],
   "source": [
    "a=input('''\n",
    "Are you ready to submit your work?\n",
    "1. Click the Save icon (or do Ctrl-S / Cmd-S)\n",
    "2. Type \"yes\" or \"no\" below\n",
    "3. Press Enter\n",
    "\n",
    "''')\n",
    "\n",
    "if a=='yes':\n",
    "    !git add week13_assignment_2.ipynb\n",
    "    !git commit -a -m \"Submitting the week 12 programming assignment\"\n",
    "    !git push\n",
    "else:\n",
    "    print('''\n",
    "    \n",
    "OK. We can wait.\n",
    "''')"
   ]
  },
  {
   "cell_type": "code",
   "execution_count": null,
   "metadata": {},
   "outputs": [],
   "source": []
  }
 ],
 "metadata": {
  "celltoolbar": "Create Assignment",
  "kernelspec": {
   "display_name": "Python 3",
   "language": "python",
   "name": "python3"
  },
  "language_info": {
   "codemirror_mode": {
    "name": "ipython",
    "version": 3
   },
   "file_extension": ".py",
   "mimetype": "text/x-python",
   "name": "python",
   "nbconvert_exporter": "python",
   "pygments_lexer": "ipython3",
   "version": "3.6.7"
  }
 },
 "nbformat": 4,
 "nbformat_minor": 2
}
